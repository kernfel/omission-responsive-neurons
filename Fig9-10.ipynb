{
 "cells": [
  {
   "cell_type": "code",
   "execution_count": null,
   "metadata": {},
   "outputs": [],
   "source": [
    "from brian2 import *\n",
    "import numpy as np\n",
    "import matplotlib.pyplot as plt\n",
    "\n",
    "from params import params, equations\n",
    "import model"
   ]
  },
  {
   "cell_type": "code",
   "execution_count": null,
   "metadata": {},
   "outputs": [],
   "source": [
    "def make_lateral_synapses_FF(Net, neurons, params):\n",
    "    Lateral = Synapses(neurons['S'], neurons['PEN'], on_pre='I_exc += lateral_weight_scale/(i-j)**2', name='Lateral', namespace=params)\n",
    "    Lateral.connect(condition='i != j')\n",
    "    Lateral.delay = 'lateral_delay_scale * abs(i-j)'\n",
    "    Net.add(Lateral)\n",
    "\n",
    "    return {'Lateral': Lateral}"
   ]
  },
  {
   "cell_type": "code",
   "execution_count": null,
   "metadata": {},
   "outputs": [],
   "source": [
    "seq_dt = params['stim_dt'] * sum(params['stim_timing'])\n",
    "\n",
    "def chunk_spike_train(spike_train, seq, dt=seq_dt, before=0, after=seq_dt):\n",
    "    trains = {i: {} for i in np.unique(seq)}\n",
    "    for trial, trial_stim in enumerate(seq):\n",
    "        t0 = trial*dt\n",
    "        mask = (spike_train > t0 - before) & (spike_train < t0 + after)\n",
    "        trains[trial_stim][trial] = spike_train[mask] - t0\n",
    "    return dict(trains=trains, dt=dt, before=before, after=after)"
   ]
  },
  {
   "cell_type": "code",
   "execution_count": null,
   "metadata": {},
   "outputs": [],
   "source": [
    "def sweep_p_A(all_p_A, network, states, spikes):\n",
    "    stream_indices = [1, 3]\n",
    "    w_pred = [[] for _ in range(params['N_streams'])]\n",
    "    rates_mean = [[], [], []]  # [A, B, O]\n",
    "    rates_std = [[], [], []]\n",
    "    for p_A in all_p_A:\n",
    "        occurrences = np.asarray([p_A, 95-p_A, 5])*2\n",
    "        n_trials = sum(occurrences)\n",
    "        runtime = sum(params['stim_timing'])*params['stim_dt'] * n_trials\n",
    "        Pred = TimedArray(np.tile([1]*params['stim_timing'][0] + [0]*params['stim_timing'][1], n_trials) * params['input_strength'], dt=params['stim_dt'])\n",
    "\n",
    "        seq, stim_inputs = model.get_oddball_inputs(occurrences, stream_indices, params)\n",
    "        Stim = TimedArray(stim_inputs * params['input_strength'], dt=params['stim_dt'])\n",
    "\n",
    "        print(f'Running for p(A) = {p_A}%...')\n",
    "        network.restore()\n",
    "        network.run(runtime)\n",
    "\n",
    "        for i_stream in range(params['N_streams']):\n",
    "            w_pred[i_stream].append(states['P'].w_pred[i_stream])\n",
    "            \n",
    "        train = chunk_spike_train(spikes['PEN'].spike_trains()[stream_indices[0]], seq)\n",
    "        for i_stim in range(3):\n",
    "            counts = [len(trial_spikes) for trial, trial_spikes in train['trains'].get(i_stim, {}).items() if trial >= 100]\n",
    "            rates_mean[i_stim].append((np.mean(counts) if len(counts) else 0) / seq_dt)\n",
    "            rates_std[i_stim].append((np.std(counts) if len(counts) else 0) / seq_dt)\n",
    "            \n",
    "    return np.asarray(w_pred), np.asarray(rates_mean), np.asarray(rates_std), runtime"
   ]
  },
  {
   "cell_type": "code",
   "execution_count": null,
   "metadata": {},
   "outputs": [],
   "source": [
    "Net = Network()\n",
    "neurons, states, spikes = model.make_neurons(Net, equations, params, state_monitors=['P'], spike_monitors=['PEN'])\n",
    "synapses = model.make_column_synapses(Net, neurons, params)\n",
    "synapses.update(model.make_lateral_synapses(Net, neurons, params))\n",
    "Net.store()"
   ]
  },
  {
   "cell_type": "code",
   "execution_count": null,
   "metadata": {},
   "outputs": [],
   "source": [
    "all_p_A = np.arange(0, 100, 1)\n",
    "w_pred, rates_mean, rates_std = {}, {}, {}"
   ]
  },
  {
   "cell_type": "code",
   "execution_count": null,
   "metadata": {},
   "outputs": [],
   "source": [
    "key = 'Lateral PE+ to PE-'\n",
    "w_pred[key], rates_mean[key], rates_std[key], runtime = sweep_p_A(all_p_A, Net, states, spikes)"
   ]
  },
  {
   "cell_type": "code",
   "execution_count": null,
   "metadata": {},
   "outputs": [],
   "source": [
    "Net_nolaterals = Network()\n",
    "neurons_nolaterals, states_nolaterals, spikes_nolaterals = model.make_neurons(Net_nolaterals, equations, params, state_monitors=['P'], spike_monitors=['PEN'])\n",
    "synapses_nolaterals = model.make_column_synapses(Net_nolaterals, neurons_nolaterals, params)\n",
    "Net_nolaterals.store()"
   ]
  },
  {
   "cell_type": "code",
   "execution_count": null,
   "metadata": {},
   "outputs": [],
   "source": [
    "key = 'No lateral'\n",
    "w_pred[key], rates_mean[key], rates_std[key], runtime = sweep_p_A(all_p_A, Net_nolaterals, states_nolaterals, spikes_nolaterals)"
   ]
  },
  {
   "cell_type": "code",
   "execution_count": null,
   "metadata": {},
   "outputs": [],
   "source": [
    "Net_FF = Network()\n",
    "neurons_FF, states_FF, spikes_FF = model.make_neurons(Net_FF, equations, params, state_monitors=['P'], spike_monitors=['PEN'])\n",
    "synapses_FF = model.make_column_synapses(Net_FF, neurons_FF, params)\n",
    "synapses_FF.update(make_lateral_synapses_FF(Net_FF, neurons_FF, params))\n",
    "Net_FF.store()"
   ]
  },
  {
   "cell_type": "code",
   "execution_count": null,
   "metadata": {},
   "outputs": [],
   "source": [
    "key = 'Lateral I to PE-'\n",
    "w_pred[key], rates_mean[key], rates_std[key], runtime = sweep_p_A(all_p_A, Net_FF, states_FF, spikes_FF)"
   ]
  },
  {
   "cell_type": "code",
   "execution_count": null,
   "metadata": {},
   "outputs": [],
   "source": [
    "fig, axs = plt.subplots(1, 3, figsize=(8,3), layout='compressed')\n",
    "mask = np.isin(all_p_A, np.arange(0, 100, 5))  # (0, 5, 10, ..., 95)\n",
    "for ax, key in zip(axs, rates_mean.keys()):\n",
    "    for mean, std, label, color in zip(rates_mean[key], rates_std[key], 'ABO', 'rbk'):\n",
    "        ax.errorbar(all_p_A[mask], mean[mask]/Hz, yerr=std[mask]/Hz, fmt=f'{color}o', label=label)\n",
    "    ax.set_title(key)\n",
    "    ax.set_xlabel('Prob(A) (%)')\n",
    "axs[0].set_ylabel('Firing rate ($s^{-1}$)')\n",
    "print('Figure 9B')"
   ]
  },
  {
   "cell_type": "code",
   "execution_count": null,
   "metadata": {},
   "outputs": [],
   "source": [
    "for key in ('Lateral PE+ to PE-', 'No lateral'):\n",
    "    fig, axs = plt.subplots(1, 2, figsize=(6,3), sharey=True, layout='compressed')\n",
    "    for ax, stream in zip(axs, (1,0)):\n",
    "        ax.set_title(f'Stream {stream+1}')\n",
    "        ax.set_xlabel('Time (s)')\n",
    "        m = ax.pcolormesh(np.linspace(0, runtime, w_pred[key].shape[2]), all_p_A, w_pred[key][stream], vmin=0, vmax=w_pred[key].max())\n",
    "    plt.colorbar(m, ax=axs, label='P_strength')\n",
    "    axs[0].set_ylabel('Prob(A)')\n",
    "    plt.suptitle(key)\n",
    "print('Figure 10A,B')"
   ]
  },
  {
   "cell_type": "code",
   "execution_count": null,
   "metadata": {},
   "outputs": [],
   "source": [
    "fig, ax = plt.subplots(figsize=(4,4))\n",
    "ax.axvline(0.5, color='grey', lw=1)\n",
    "\n",
    "for key, label, color in (['Lateral PE+ to PE-', 'With', 'r'], ['No lateral', 'Without', 'b']):\n",
    "    ax.plot(all_p_A/100, np.mean(w_pred[key][1, :, -50:], 1), color, label=f'{label} (S2)')\n",
    "    ax.plot(all_p_A/100, np.mean(w_pred[key][0, :, -50:], 1), f'{color}--', label=f'{label} (S1)')\n",
    "\n",
    "plt.ylabel('P_strength')\n",
    "plt.xlabel('Prob(A)')\n",
    "plt.legend()\n",
    "print('Figure 10C')"
   ]
  },
  {
   "cell_type": "code",
   "execution_count": null,
   "metadata": {},
   "outputs": [],
   "source": [
    "fig, ax = plt.subplots(figsize=(4,4))\n",
    "ax.axvline(0.5, color='grey', lw=1)\n",
    "\n",
    "for key, label, color in (['Lateral PE+ to PE-', 'With', 'r'], ['No lateral', 'Without', 'b']):\n",
    "    ax.plot(all_p_A/100, np.log(np.mean(w_pred[key][1, :, -50:], 1)/np.mean(w_pred[key][0, :, -50:], 1)), color, label=label)\n",
    "\n",
    "plt.ylabel('log(S2/S1)')\n",
    "plt.xlabel('Prob(A)')\n",
    "plt.legend()\n",
    "print('Figure 10D')"
   ]
  },
  {
   "cell_type": "code",
   "execution_count": null,
   "metadata": {},
   "outputs": [],
   "source": [
    "cmap = plt.cm.viridis_r\n",
    "fig, axs = plt.subplots(1, 2, figsize=(6,3), layout='compressed', sharey=True)\n",
    "for ax in axs:\n",
    "    ax.axvline(0.5, color='grey', lw=1)\n",
    "    ax.set_xlabel('Prob(A)')\n",
    "axs[0].set_ylabel('P_strength')\n",
    "\n",
    "for ax, key, label in zip(axs, ['Lateral PE+ to PE-', 'No lateral'], ['With', 'Without']):\n",
    "    for stream in range(params['N_streams']):\n",
    "        ax.plot(all_p_A/100, np.mean(w_pred[key][stream, :, -50:], 1), color=cmap(stream / (params['N_streams']-1)), label=f'S{stream+1}')\n",
    "    ax.set_title(label)\n",
    "\n",
    "axs[-1].legend()\n",
    "print('Figure 10E')"
   ]
  },
  {
   "cell_type": "code",
   "execution_count": null,
   "metadata": {},
   "outputs": [],
   "source": [
    "fig, ax = plt.subplots(figsize=(4,4))\n",
    "ax.axvline(0.5, color='grey', lw=1)\n",
    "\n",
    "for key, label, color in (['Lateral PE+ to PE-', 'With', 'r'], ['No lateral', 'Without', 'b']):\n",
    "    ax.plot(all_p_A/100, np.mean(w_pred[key][:, :, -50:], (0,2)), color, label=label)\n",
    "\n",
    "plt.ylabel('mean(P_strength)')\n",
    "plt.xlabel('Prob(A)')\n",
    "plt.legend()\n",
    "print('Figure 10F')"
   ]
  }
 ],
 "metadata": {
  "kernelspec": {
   "display_name": ".env",
   "language": "python",
   "name": "python3"
  },
  "language_info": {
   "codemirror_mode": {
    "name": "ipython",
    "version": 3
   },
   "file_extension": ".py",
   "mimetype": "text/x-python",
   "name": "python",
   "nbconvert_exporter": "python",
   "pygments_lexer": "ipython3",
   "version": "3.10.12"
  }
 },
 "nbformat": 4,
 "nbformat_minor": 2
}
